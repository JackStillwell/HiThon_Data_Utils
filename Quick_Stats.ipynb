{
 "cells": [
  {
   "cell_type": "code",
   "execution_count": 1,
   "metadata": {},
   "outputs": [],
   "source": [
    "import hithon_data_utils as hdu"
   ]
  },
  {
   "cell_type": "code",
   "execution_count": 2,
   "metadata": {},
   "outputs": [
    {
     "name": "stderr",
     "output_type": "stream",
     "text": [
      "100%|██████████| 104/104 [00:02<00:00, 33.95it/s]\n"
     ]
    }
   ],
   "source": [
    "god_data = hdu.load_from_directory('../SmiteData/joust_match_data')\n",
    "god_map = hdu.load_god_map('../SmiteData/gods.json')\n",
    "\n",
    "above_plat = hdu.filter_by_field(god_data, 'Joust_Tier', range(15, 30))"
   ]
  },
  {
   "cell_type": "code",
   "execution_count": 3,
   "metadata": {},
   "outputs": [],
   "source": [
    "most_played = hdu.convert_keys_to_names(hdu.get_most_played(above_plat), god_map)\n",
    "most_banned = hdu.convert_keys_to_names(hdu.get_most_banned(above_plat), god_map)\n",
    "most_picked = hdu.convert_keys_to_names(hdu.get_most_picked(above_plat), god_map)\n",
    "most_winning = hdu.convert_keys_to_names(hdu.get_most_winning(above_plat), god_map)"
   ]
  },
  {
   "cell_type": "code",
   "execution_count": 4,
   "metadata": {},
   "outputs": [],
   "source": [
    "god_id = hdu.get_id_name('Hou Yi', god_map).id\n",
    "most_winning_against_god = hdu.convert_keys_to_names(hdu.get_most_winning_against(god_id, above_plat), god_map)"
   ]
  },
  {
   "cell_type": "code",
   "execution_count": 5,
   "metadata": {},
   "outputs": [],
   "source": [
    "most_winning.sort(key=lambda x: x[1].perc_wins, reverse=True)\n",
    "most_winning_against_god.sort(key=lambda x: x[1].perc_wins, reverse=True)"
   ]
  },
  {
   "cell_type": "code",
   "execution_count": 6,
   "metadata": {},
   "outputs": [
    {
     "data": {
      "text/plain": [
       "[('Cupid', WinningData(num_wins=162, perc_wins=0.12646370023419204)),\n",
       " ('Ullr', WinningData(num_wins=130, perc_wins=0.1070840197693575)),\n",
       " ('Anhur', WinningData(num_wins=125, perc_wins=0.10262725779967159)),\n",
       " ('Isis', WinningData(num_wins=164, perc_wins=0.09927360774818401)),\n",
       " ('Medusa', WinningData(num_wins=197, perc_wins=0.09781529294935452)),\n",
       " ('Ah Muzen Cab', WinningData(num_wins=161, perc_wins=0.09470588235294118)),\n",
       " ('Ares', WinningData(num_wins=88, perc_wins=0.09176225234619395)),\n",
       " ('Ne Zha', WinningData(num_wins=143, perc_wins=0.0913154533844189)),\n",
       " ('Camazotz', WinningData(num_wins=6, perc_wins=0.09090909090909091)),\n",
       " ('Discordia', WinningData(num_wins=73, perc_wins=0.08220720720720721)),\n",
       " ('Kukulkan', WinningData(num_wins=37, perc_wins=0.08185840707964602)),\n",
       " ('Ganesha', WinningData(num_wins=61, perc_wins=0.08155080213903744)),\n",
       " ('Neith', WinningData(num_wins=63, perc_wins=0.08118556701030928)),\n",
       " ('Hercules', WinningData(num_wins=51, perc_wins=0.08082408874801902)),\n",
       " ('Chaac', WinningData(num_wins=55, perc_wins=0.07994186046511628)),\n",
       " ('Zeus', WinningData(num_wins=88, perc_wins=0.07913669064748201)),\n",
       " ('Merlin', WinningData(num_wins=58, perc_wins=0.07848443843031123)),\n",
       " ('Poseidon', WinningData(num_wins=64, perc_wins=0.07664670658682635)),\n",
       " ('Sun Wukong', WinningData(num_wins=15, perc_wins=0.07389162561576355)),\n",
       " ('Vulcan', WinningData(num_wins=65, perc_wins=0.07088331515812432)),\n",
       " ('Bellona', WinningData(num_wins=22, perc_wins=0.07006369426751592)),\n",
       " ('Janus', WinningData(num_wins=12, perc_wins=0.06818181818181818)),\n",
       " ('Anubis', WinningData(num_wins=44, perc_wins=0.06779661016949153)),\n",
       " ('Awilix', WinningData(num_wins=19, perc_wins=0.06761565836298933)),\n",
       " ('Nox', WinningData(num_wins=68, perc_wins=0.06500956022944551)),\n",
       " ('Scylla', WinningData(num_wins=81, perc_wins=0.06393054459352802)),\n",
       " ('Hun Batz', WinningData(num_wins=12, perc_wins=0.06282722513089005)),\n",
       " ('Kumbhakarna', WinningData(num_wins=48, perc_wins=0.059186189889025895)),\n",
       " ('Xbalanque', WinningData(num_wins=23, perc_wins=0.05721393034825871)),\n",
       " ('Ymir', WinningData(num_wins=24, perc_wins=0.056338028169014086)),\n",
       " ('Achilles', WinningData(num_wins=60, perc_wins=0.054844606946983544)),\n",
       " ('Da Ji', WinningData(num_wins=23, perc_wins=0.0539906103286385)),\n",
       " ('Xing Tian', WinningData(num_wins=82, perc_wins=0.05391190006574622)),\n",
       " ('Chernobog', WinningData(num_wins=10, perc_wins=0.05291005291005291)),\n",
       " ('Ravana', WinningData(num_wins=12, perc_wins=0.05263157894736842)),\n",
       " ('Athena', WinningData(num_wins=41, perc_wins=0.05203045685279188)),\n",
       " ('Tyr', WinningData(num_wins=21, perc_wins=0.05185185185185185)),\n",
       " ('Hachiman', WinningData(num_wins=82, perc_wins=0.05080545229244114)),\n",
       " ('Fafnir', WinningData(num_wins=13, perc_wins=0.04887218045112782)),\n",
       " ('Terra', WinningData(num_wins=84, perc_wins=0.04886561954624782)),\n",
       " ('Thoth', WinningData(num_wins=105, perc_wins=0.048409405255878286)),\n",
       " ('Olorun', WinningData(num_wins=18, perc_wins=0.047493403693931395)),\n",
       " ('Set', WinningData(num_wins=17, perc_wins=0.04709141274238227)),\n",
       " ('Guan Yu', WinningData(num_wins=36, perc_wins=0.04603580562659847)),\n",
       " ('Susano', WinningData(num_wins=25, perc_wins=0.043782837127845885)),\n",
       " ('Bastet', WinningData(num_wins=12, perc_wins=0.04363636363636364)),\n",
       " ('The Morrigan', WinningData(num_wins=8, perc_wins=0.043478260869565216)),\n",
       " ('Baron Samedi', WinningData(num_wins=79, perc_wins=0.04321663019693654)),\n",
       " ('Geb', WinningData(num_wins=46, perc_wins=0.04224058769513315)),\n",
       " ('Horus', WinningData(num_wins=48, perc_wins=0.04199475065616798)),\n",
       " ('Cabrakan', WinningData(num_wins=76, perc_wins=0.041919470490899065)),\n",
       " ('Artio', WinningData(num_wins=38, perc_wins=0.041758241758241756)),\n",
       " ('Khepri', WinningData(num_wins=34, perc_wins=0.04106280193236715)),\n",
       " ('Sobek', WinningData(num_wins=78, perc_wins=0.039533705017739486)),\n",
       " ('Raijin', WinningData(num_wins=18, perc_wins=0.03870967741935484)),\n",
       " ('Zhong Kui', WinningData(num_wins=41, perc_wins=0.038461538461538464)),\n",
       " ('Thor', WinningData(num_wins=28, perc_wins=0.03819918144611187)),\n",
       " ('Agni', WinningData(num_wins=63, perc_wins=0.03795180722891566)),\n",
       " (\"Chang'e\", WinningData(num_wins=31, perc_wins=0.037943696450428395)),\n",
       " ('Cerberus', WinningData(num_wins=20, perc_wins=0.03787878787878788)),\n",
       " ('Thanatos', WinningData(num_wins=7, perc_wins=0.03684210526315789)),\n",
       " ('Hel', WinningData(num_wins=27, perc_wins=0.03678474114441417)),\n",
       " ('Erlang Shen', WinningData(num_wins=19, perc_wins=0.035916824196597356)),\n",
       " ('Cernunnos', WinningData(num_wins=33, perc_wins=0.03556034482758621)),\n",
       " ('Mercury', WinningData(num_wins=2, perc_wins=0.034482758620689655)),\n",
       " ('Bacchus', WinningData(num_wins=46, perc_wins=0.03435399551904406)),\n",
       " ('Skadi', WinningData(num_wins=31, perc_wins=0.03336921420882669)),\n",
       " ('Aphrodite', WinningData(num_wins=26, perc_wins=0.033121019108280254)),\n",
       " ('Chiron', WinningData(num_wins=30, perc_wins=0.033112582781456956)),\n",
       " ('Ah Puch', WinningData(num_wins=22, perc_wins=0.03308270676691729)),\n",
       " ('Kali', WinningData(num_wins=3, perc_wins=0.03296703296703297)),\n",
       " ('Pele', WinningData(num_wins=3, perc_wins=0.03225806451612903)),\n",
       " ('Serqet', WinningData(num_wins=4, perc_wins=0.032)),\n",
       " ('Fenrir', WinningData(num_wins=32, perc_wins=0.031683168316831684)),\n",
       " ('Jormungandr', WinningData(num_wins=25, perc_wins=0.031407035175879394)),\n",
       " ('Hades', WinningData(num_wins=7, perc_wins=0.03070175438596491)),\n",
       " ('Kuzenbo', WinningData(num_wins=35, perc_wins=0.029838022165387893)),\n",
       " ('King Arthur', WinningData(num_wins=22, perc_wins=0.029609690444145357)),\n",
       " ('Cu Chulainn', WinningData(num_wins=14, perc_wins=0.029106029106029108)),\n",
       " ('Sylvanus', WinningData(num_wins=9, perc_wins=0.028846153846153848)),\n",
       " ('He Bo', WinningData(num_wins=35, perc_wins=0.028782894736842105)),\n",
       " ('Bakasura', WinningData(num_wins=1, perc_wins=0.02857142857142857)),\n",
       " ('Ra', WinningData(num_wins=16, perc_wins=0.02831858407079646)),\n",
       " ('Vamana', WinningData(num_wins=6, perc_wins=0.027649769585253458)),\n",
       " ('Amaterasu', WinningData(num_wins=9, perc_wins=0.02735562310030395)),\n",
       " ('Rama', WinningData(num_wins=5, perc_wins=0.026737967914438502)),\n",
       " ('Odin', WinningData(num_wins=30, perc_wins=0.02564102564102564)),\n",
       " ('Hera', WinningData(num_wins=23, perc_wins=0.025555555555555557)),\n",
       " ('Ratatoskr', WinningData(num_wins=1, perc_wins=0.024390243902439025)),\n",
       " ('Artemis', WinningData(num_wins=9, perc_wins=0.02284263959390863)),\n",
       " ('Sol', WinningData(num_wins=7, perc_wins=0.022508038585209004)),\n",
       " ('Arachne', WinningData(num_wins=1, perc_wins=0.021739130434782608)),\n",
       " ('Nike', WinningData(num_wins=11, perc_wins=0.020036429872495445)),\n",
       " ('Loki', WinningData(num_wins=3, perc_wins=0.01935483870967742)),\n",
       " ('Osiris', WinningData(num_wins=8, perc_wins=0.018475750577367205)),\n",
       " ('Chronos', WinningData(num_wins=8, perc_wins=0.01762114537444934)),\n",
       " ('Izanami', WinningData(num_wins=3, perc_wins=0.01694915254237288)),\n",
       " ('Nemesis', WinningData(num_wins=1, perc_wins=0.01639344262295082)),\n",
       " ('Jing Wei', WinningData(num_wins=2, perc_wins=0.014388489208633094)),\n",
       " ('Nu Wa', WinningData(num_wins=1, perc_wins=0.009433962264150943)),\n",
       " ('Apollo', WinningData(num_wins=1, perc_wins=0.004901960784313725)),\n",
       " ('Ao Kuang', WinningData(num_wins=0, perc_wins=0.0)),\n",
       " ('Freya', WinningData(num_wins=0, perc_wins=0.0)),\n",
       " ('Hou Yi', WinningData(num_wins=0, perc_wins=0.0))]"
      ]
     },
     "execution_count": 6,
     "metadata": {},
     "output_type": "execute_result"
    }
   ],
   "source": [
    "most_winning_against_god"
   ]
  },
  {
   "cell_type": "code",
   "execution_count": null,
   "metadata": {},
   "outputs": [],
   "source": []
  },
  {
   "cell_type": "code",
   "execution_count": null,
   "metadata": {},
   "outputs": [],
   "source": []
  },
  {
   "cell_type": "code",
   "execution_count": null,
   "metadata": {},
   "outputs": [],
   "source": []
  }
 ],
 "metadata": {
  "kernelspec": {
   "display_name": "Python 3",
   "language": "python",
   "name": "python3"
  },
  "language_info": {
   "codemirror_mode": {
    "name": "ipython",
    "version": 3
   },
   "file_extension": ".py",
   "mimetype": "text/x-python",
   "name": "python",
   "nbconvert_exporter": "python",
   "pygments_lexer": "ipython3",
   "version": "3.6.8"
  }
 },
 "nbformat": 4,
 "nbformat_minor": 4
}
